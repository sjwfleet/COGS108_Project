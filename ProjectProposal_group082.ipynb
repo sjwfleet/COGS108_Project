{
 "cells": [
  {
   "cell_type": "markdown",
   "metadata": {},
   "source": [
    "# COGS 108 - Final Project Proposal"
   ]
  },
  {
   "cell_type": "markdown",
   "metadata": {},
   "source": [
    "# Names\n",
    "\n",
    "- Samuel\n",
    "- Matthew\n",
    "- Caitlin\n",
    "- Darren\n",
    "- Nick"
   ]
  },
  {
   "cell_type": "markdown",
   "metadata": {},
   "source": [
    "# Research Question (1-2 sentences)"
   ]
  },
  {
   "cell_type": "markdown",
   "metadata": {},
   "source": [
    "__Do large online communities ( of retail traders) have influence over the stock market?__\n",
    "\n",
    "*Sentiment analysis of positivity on the Reddit subreddit r/WallStreetBets and how this correlates to the performance of the S&P 500 and other stocks in the calender year 2020 to 2021*"
   ]
  },
  {
   "cell_type": "markdown",
   "metadata": {},
   "source": [
    "## Background and Prior Work (2-3 paragraphs)"
   ]
  },
  {
   "cell_type": "markdown",
   "metadata": {},
   "source": [
    "### Introduction to Topic"
   ]
  },
  {
   "cell_type": "markdown",
   "metadata": {},
   "source": [
    "Reddit was considered a good community for us to hone in on for our topic not just because of its size, but also because it has a dedicated system for us to more easily scrape semi-structured data from the site. We are able to do this with the Python Reddit API Wrapper (PRAW). For the past few days the subreddit r/WallStreetBets has been the center of the trading world with its short squeeze of the Gamestock (GME), AMC Theaters (AMC), and BlackBerry (BB) stocks and more. Their history of trading in a reckless manner goes back much further than just the past few weeks. In this project we look at the trading done in the months leading up to and during the Covid-19 pandemic and how it correlates to several stocks including the S&P 500, TSLA, GME, and more."
   ]
  },
  {
   "cell_type": "markdown",
   "metadata": {},
   "source": [
    "### Summary of Prior Work"
   ]
  },
  {
   "attachments": {},
   "cell_type": "markdown",
   "metadata": {},
   "source": [
    "Keith Gill, also know as the Roaring Kitty on Reddit, Tik Tok, and Youtube, invested $53,000 into GameStop (3). Recently he and his followers invested into GameStop against hedge funds and went against Wall Street norms. He and his fellow investors drove up the price of GameStop, which is still climbing to this day (4). Because Gill's base was mainly on Reddit, we were curious if there was any correlation with the positivity of the subreddit he frequented and the S&P 500. We did some research to see if scraping data from reddit was possible, and according to (2), it would be quite simple to create our own dataset using Reddit's API. We also looked into Kaggle, to see what our ideal dataset would look like (1). Using these resources, we feel confident in our ability to webscrape our own Reddit dataset. We also looked into downloading a dataset from websites that have the history and time periods of stocks. Yahoo Finance provides an easy way to download a dataset with the variables we need in .csv format (4).\n",
    "\n",
    "\n",
    "References (include links):\n",
    "- 1) https://www.kaggle.com/shergreen/wallstreetbets-subreddit-submissions\n",
    "- 2) https://towardsdatascience.com/scraping-reddit-data-1c0af3040768\n",
    "- 3) https://www.nytimes.com/2021/01/29/technology/roaring-kitty-reddit-gamestop-markets.html\n",
    "- 4) https://finance.yahoo.com/quote/GME"
   ]
  },
  {
   "cell_type": "markdown",
   "metadata": {},
   "source": [
    "# Hypothesis (2-3 sentences)\n"
   ]
  },
  {
   "cell_type": "markdown",
   "metadata": {},
   "source": [
    "We hypothesize that there is a correlation between the positivity on the subreddit and the performance of the S&P 500 due to global and local events. Global events, especially the COVID-19 pandemic, may hold an influence over the subreddit and the market.\n",
    "- We also hypothesize that there will be a positive linear relationship between the performance of the S&P 500 and positivity on the popular subredditr r/WallStreetBets.\n"
   ]
  },
  {
   "cell_type": "markdown",
   "metadata": {},
   "source": [
    "# Data"
   ]
  },
  {
   "cell_type": "markdown",
   "metadata": {},
   "source": [
    "For our project, we would need two datasets. One would be a dataset about stocks, and the other will be a data set of Reddit threads from the subreddit r/WallStreetBets.\n",
    "\n",
    "For the dataset about stocks, we would need the following variables:\n",
    "\n",
    "* time period\n",
    "* stock price\n",
    "* time\n",
    "* percent change\n",
    "\n",
    "This file will be stored in a .csv file. We don't have an exact number of observations. However, we do know we want our data to reflect a certain time period. This time period should also be consistent with our Reddit dataset. This dataset will probably be taken from any website that has data on the history and price of stocks, like Yahoo Finance. Our dataset can be downloaded directly from Yahoo Finance as a .csv file.\n",
    "\n",
    "For the Reddit datasets, we would need the following variables:\n",
    "\n",
    "* title\n",
    "* body\n",
    "* id\n",
    "* username\n",
    "* date\n",
    "* time\n",
    "\n",
    "This file may be stored as a .csv file or a json file. We also don't have an exact number of observations. However, we do know we want our data to be representative of the time period from the stocks dataset. Our data will be webscraped ourselves. This will allow us to control the time period better.\n",
    "\n"
   ]
  },
  {
   "cell_type": "markdown",
   "metadata": {},
   "source": [
    "# Ethics & Privacy (1 paragraph)"
   ]
  },
  {
   "cell_type": "markdown",
   "metadata": {},
   "source": [
    "\n",
    "There is a potential bias in how we webscrape the Reddit API. This bias may come from how we build our dataset from Reddit, as just selecting certain threads might influence our dataset. Another bias could come from the culture of Reddit, in which some threads have certain patterns and trends in commenting and posting. However, we do not have biases coming from our group. We are not involved at all with Reddit, and therefore do not present a bias personally. However, if we gravitate to webscraping certain threads, then we may introduce a bias. We will try to detect these by going through reddit threads we are webscraping, and making sure all of them are not those that we are familiar with.\n",
    "\n",
    "Privacy is another problem. While Reddit data is public property, there are IDs and usernames involved. It is extremely easy to look up reddit usernames, posts, and comments to find the particular post on reddit. We are looking into deanonymizing the data by removing names, usernames, ids, posts, and titles. We are hoping to only publish our sentiment analysis rather than our dataset to prevent people from looking up posts and usernames. If not, this will be problematic as people can look up these posts and target specific users."
   ]
  },
  {
   "cell_type": "markdown",
   "metadata": {},
   "source": [
    "# Team Expectations "
   ]
  },
  {
   "cell_type": "markdown",
   "metadata": {},
   "source": [
    "* *Team Expectation 1*: Ensure we have internal deliverables and deadlines so that we can divide and work on tasks individually.\n",
    "* *Team Expectation 2*: Ensure that members are held accountable through open communication via a Discord group. If an issue arises we will address it directly via the group chat. Communicate what we are working on when; partially to prevent overwriting and merge conflicts. \n",
    "* *Team Expectation 3*: Try to stay to fixed meeting times to ensure that we complete work on time at a high standard. If members miss meetings, communicate tasks/deliverables via the group chat.\n",
    "  "
   ]
  },
  {
   "cell_type": "markdown",
   "metadata": {},
   "source": [
    "# Project Timeline Proposal"
   ]
  },
  {
   "cell_type": "markdown",
   "metadata": {},
   "source": [
    "| Meeting Date  | Meeting Time| Completed Before Meeting  | Discuss at Meeting |\n",
    "|---|---|---|---|\n",
    "| 1/28  |  2:30 PM | Read & Think about COGS 108 expectations  | Brainstorming potential topic areas, and example datasets | \n",
    "| 1/28  |  ~11 PM |  Read over datasets and topics, cull ones that won't work or are out of scope | Set team expectations, narrow down a research question and background research | \n",
    "| 1/29  | ~6 PM  | Continue search for datasets, edit proposal and add hypothesis and ethics  | Submit proposal and start to divide group member tasks   |\n",
    "| 1/29  | Before 11:59 PM  | NA | Turn in Project Proposal |\n",
    "| 2/5  | 8 PM  | Import & Wrangle Data ///; EDA /// | Start to review and process some data   |\n",
    "| 2/10  | 8 PM  | Begin to explore analysis for data | work on wrangling/EDA + submit checkpoint 1 |\n",
    "| 2/12  | Before 11:59 PM  | NA | Turn in Checkpoint #1: Data |\n",
    "| 2/17  | 8 PM  | Finalize wrangling/EDA; Begin Analysis /// | Discuss/edit Analysis |\n",
    "| 2/22  | 8 PM  | Work on individual tasks | Review all work thus far, finish and submit checkpoint 2   |\n",
    "| 2/26  | Before 11:59 PM  | NA | Turn in Checkpoint #2: EDA  |\n",
    "| 3/3  | 8 PM  | Start to look at final project deliverable | Begin finishing analysis |\n",
    "| 3/8  | 8 PM  | Complete analysis; Draft results/conclusion/discussion /// | Work on and discuss the final deliverable |\n",
    "| 3/19 [??]  | Before 11:59 PM  | NA | Turn in Final Project & Group Project Surveys |"
   ]
  }
 ],
 "metadata": {
  "kernelspec": {
   "display_name": "Python 3",
   "language": "python",
   "name": "python3"
  },
  "language_info": {
   "codemirror_mode": {
    "name": "ipython",
    "version": 3
   },
   "file_extension": ".py",
   "mimetype": "text/x-python",
   "name": "python",
   "nbconvert_exporter": "python",
   "pygments_lexer": "ipython3",
   "version": "3.8.5"
  }
 },
 "nbformat": 4,
 "nbformat_minor": 2
}
