{
 "cells": [
  {
   "cell_type": "markdown",
   "metadata": {},
   "source": [
    "## Demo for pulling Reddit submissions from website"
   ]
  },
  {
   "cell_type": "markdown",
   "metadata": {},
   "source": [
    "#### Includes install for parallelism if you want to use it. Assumes you have pmaw wrapped installed"
   ]
  },
  {
   "cell_type": "code",
   "execution_count": 4,
   "metadata": {
    "scrolled": true
   },
   "outputs": [
    {
     "name": "stdout",
     "output_type": "stream",
     "text": [
      "Collecting ipyparallel\n",
      "  Downloading ipyparallel-6.3.0-py3-none-any.whl (199 kB)\n",
      "Requirement already satisfied: tornado>=4 in c:\\programdata\\anaconda3\\lib\\site-packages (from ipyparallel) (6.0.4)\n",
      "Requirement already satisfied: pyzmq>=13 in c:\\programdata\\anaconda3\\lib\\site-packages (from ipyparallel) (19.0.2)\n",
      "Requirement already satisfied: ipython>=4 in c:\\programdata\\anaconda3\\lib\\site-packages (from ipyparallel) (7.19.0)\n",
      "Requirement already satisfied: decorator in c:\\programdata\\anaconda3\\lib\\site-packages (from ipyparallel) (4.4.2)\n",
      "Requirement already satisfied: jupyter-client in c:\\programdata\\anaconda3\\lib\\site-packages (from ipyparallel) (6.1.7)\n",
      "Requirement already satisfied: traitlets>=4.3 in c:\\programdata\\anaconda3\\lib\\site-packages (from ipyparallel) (5.0.5)\n",
      "Requirement already satisfied: python-dateutil>=2.1 in c:\\programdata\\anaconda3\\lib\\site-packages (from ipyparallel) (2.8.1)\n",
      "Requirement already satisfied: ipykernel>=4.4 in c:\\programdata\\anaconda3\\lib\\site-packages (from ipyparallel) (5.3.4)\n",
      "Requirement already satisfied: ipython-genutils in c:\\programdata\\anaconda3\\lib\\site-packages (from ipyparallel) (0.2.0)\n",
      "Requirement already satisfied: pygments in c:\\programdata\\anaconda3\\lib\\site-packages (from ipython>=4->ipyparallel) (2.7.2)\n",
      "Requirement already satisfied: colorama; sys_platform == \"win32\" in c:\\programdata\\anaconda3\\lib\\site-packages (from ipython>=4->ipyparallel) (0.4.4)\n",
      "Requirement already satisfied: setuptools>=18.5 in c:\\programdata\\anaconda3\\lib\\site-packages (from ipython>=4->ipyparallel) (50.3.1.post20201107)\n",
      "Requirement already satisfied: jedi>=0.10 in c:\\programdata\\anaconda3\\lib\\site-packages (from ipython>=4->ipyparallel) (0.17.1)\n",
      "Requirement already satisfied: prompt-toolkit!=3.0.0,!=3.0.1,<3.1.0,>=2.0.0 in c:\\programdata\\anaconda3\\lib\\site-packages (from ipython>=4->ipyparallel) (3.0.8)\n",
      "Requirement already satisfied: backcall in c:\\programdata\\anaconda3\\lib\\site-packages (from ipython>=4->ipyparallel) (0.2.0)\n",
      "Requirement already satisfied: pickleshare in c:\\programdata\\anaconda3\\lib\\site-packages (from ipython>=4->ipyparallel) (0.7.5)\n",
      "Requirement already satisfied: jupyter-core>=4.6.0 in c:\\programdata\\anaconda3\\lib\\site-packages (from jupyter-client->ipyparallel) (4.6.3)\n",
      "Requirement already satisfied: six>=1.5 in c:\\programdata\\anaconda3\\lib\\site-packages (from python-dateutil>=2.1->ipyparallel) (1.15.0)\n",
      "Requirement already satisfied: parso<0.8.0,>=0.7.0 in c:\\programdata\\anaconda3\\lib\\site-packages (from jedi>=0.10->ipython>=4->ipyparallel) (0.7.0)\n",
      "Requirement already satisfied: wcwidth in c:\\programdata\\anaconda3\\lib\\site-packages (from prompt-toolkit!=3.0.0,!=3.0.1,<3.1.0,>=2.0.0->ipython>=4->ipyparallel) (0.2.5)\n",
      "Requirement already satisfied: pywin32>=1.0; sys_platform == \"win32\" in c:\\programdata\\anaconda3\\lib\\site-packages (from jupyter-core>=4.6.0->jupyter-client->ipyparallel) (227)\n",
      "Installing collected packages: ipyparallel\n",
      "Successfully installed ipyparallel-6.3.0\n",
      "Note: you may need to restart the kernel to use updated packages.\n"
     ]
    }
   ],
   "source": [
    "pip install ipyparallel"
   ]
  },
  {
   "cell_type": "code",
   "execution_count": null,
   "metadata": {
    "scrolled": true
   },
   "outputs": [
    {
     "name": "stdout",
     "output_type": "stream",
     "text": [
      "Total:: Success Rate: 100.00% - Requests: 1 - Batches: 1\n",
      "867241 results available in Pushshift\n",
      "Setting limit to 867241\n",
      "Checkpoint:: Success Rate: 85.71% - Requests: 91 - Batches: 10\n",
      "Checkpoint:: Success Rate: 83.77% - Requests: 191 - Batches: 20\n",
      "Checkpoint:: Success Rate: 80.76% - Requests: 291 - Batches: 30\n",
      "Checkpoint:: Success Rate: 79.80% - Requests: 391 - Batches: 40\n",
      "Checkpoint:: Success Rate: 80.86% - Requests: 491 - Batches: 50\n",
      "Checkpoint:: Success Rate: 82.06% - Requests: 591 - Batches: 60\n",
      "Checkpoint:: Success Rate: 82.05% - Requests: 691 - Batches: 70\n",
      "Checkpoint:: Success Rate: 83.19% - Requests: 791 - Batches: 80\n",
      "Checkpoint:: Success Rate: 82.15% - Requests: 891 - Batches: 90\n",
      "Checkpoint:: Success Rate: 81.23% - Requests: 991 - Batches: 100\n",
      "Checkpoint:: Success Rate: 81.76% - Requests: 1091 - Batches: 110\n",
      "Checkpoint:: Success Rate: 81.86% - Requests: 1191 - Batches: 120\n",
      "Checkpoint:: Success Rate: 82.11% - Requests: 1291 - Batches: 130\n",
      "Checkpoint:: Success Rate: 82.03% - Requests: 1391 - Batches: 140\n",
      "Checkpoint:: Success Rate: 81.35% - Requests: 1491 - Batches: 150\n",
      "Checkpoint:: Success Rate: 81.40% - Requests: 1591 - Batches: 160\n",
      "Checkpoint:: Success Rate: 81.31% - Requests: 1691 - Batches: 170\n",
      "Checkpoint:: Success Rate: 81.18% - Requests: 1791 - Batches: 180\n",
      "Checkpoint:: Success Rate: 81.49% - Requests: 1891 - Batches: 190\n",
      "Checkpoint:: Success Rate: 81.52% - Requests: 1991 - Batches: 200\n",
      "Checkpoint:: Success Rate: 81.49% - Requests: 2091 - Batches: 210\n",
      "Checkpoint:: Success Rate: 81.56% - Requests: 2191 - Batches: 220\n",
      "Checkpoint:: Success Rate: 81.80% - Requests: 2291 - Batches: 230\n",
      "Checkpoint:: Success Rate: 82.02% - Requests: 2391 - Batches: 240\n",
      "Checkpoint:: Success Rate: 82.06% - Requests: 2491 - Batches: 250\n",
      "Checkpoint:: Success Rate: 82.32% - Requests: 2591 - Batches: 260\n",
      "Checkpoint:: Success Rate: 82.46% - Requests: 2691 - Batches: 270\n",
      "Checkpoint:: Success Rate: 82.48% - Requests: 2791 - Batches: 280\n",
      "Checkpoint:: Success Rate: 82.88% - Requests: 2891 - Batches: 290\n",
      "Checkpoint:: Success Rate: 82.75% - Requests: 2991 - Batches: 300\n",
      "Checkpoint:: Success Rate: 82.21% - Requests: 3091 - Batches: 310\n",
      "Checkpoint:: Success Rate: 81.76% - Requests: 3191 - Batches: 320\n",
      "Checkpoint:: Success Rate: 81.49% - Requests: 3291 - Batches: 330\n",
      "Checkpoint:: Success Rate: 80.83% - Requests: 3391 - Batches: 340\n",
      "Checkpoint:: Success Rate: 80.46% - Requests: 3491 - Batches: 350\n",
      "Checkpoint:: Success Rate: 80.06% - Requests: 3591 - Batches: 360\n",
      "Checkpoint:: Success Rate: 80.06% - Requests: 3691 - Batches: 370\n",
      "Checkpoint:: Success Rate: 79.95% - Requests: 3791 - Batches: 380\n",
      "Checkpoint:: Success Rate: 80.08% - Requests: 3891 - Batches: 390\n",
      "Checkpoint:: Success Rate: 80.16% - Requests: 3991 - Batches: 400\n",
      "Checkpoint:: Success Rate: 80.18% - Requests: 4091 - Batches: 410\n",
      "Checkpoint:: Success Rate: 80.29% - Requests: 4191 - Batches: 420\n",
      "Checkpoint:: Success Rate: 80.45% - Requests: 4291 - Batches: 430\n",
      "Checkpoint:: Success Rate: 80.82% - Requests: 4391 - Batches: 440\n",
      "Checkpoint:: Success Rate: 80.81% - Requests: 4491 - Batches: 450\n",
      "Checkpoint:: Success Rate: 81.03% - Requests: 4591 - Batches: 460\n",
      "Checkpoint:: Success Rate: 81.13% - Requests: 4691 - Batches: 470\n",
      "Checkpoint:: Success Rate: 81.21% - Requests: 4791 - Batches: 480\n",
      "Checkpoint:: Success Rate: 81.33% - Requests: 4891 - Batches: 490\n",
      "Checkpoint:: Success Rate: 81.45% - Requests: 4991 - Batches: 500\n",
      "Checkpoint:: Success Rate: 81.46% - Requests: 5091 - Batches: 510\n",
      "Checkpoint:: Success Rate: 81.58% - Requests: 5191 - Batches: 520\n",
      "Checkpoint:: Success Rate: 81.42% - Requests: 5291 - Batches: 530\n",
      "Checkpoint:: Success Rate: 81.45% - Requests: 5391 - Batches: 540\n",
      "Checkpoint:: Success Rate: 81.53% - Requests: 5491 - Batches: 550\n",
      "Checkpoint:: Success Rate: 81.67% - Requests: 5591 - Batches: 560\n",
      "Checkpoint:: Success Rate: 81.73% - Requests: 5691 - Batches: 570\n",
      "Checkpoint:: Success Rate: 81.76% - Requests: 5791 - Batches: 580\n",
      "Checkpoint:: Success Rate: 81.87% - Requests: 5891 - Batches: 590\n",
      "Checkpoint:: Success Rate: 81.77% - Requests: 5991 - Batches: 600\n",
      "Checkpoint:: Success Rate: 81.83% - Requests: 6091 - Batches: 610\n",
      "Checkpoint:: Success Rate: 81.86% - Requests: 6191 - Batches: 620\n",
      "Checkpoint:: Success Rate: 81.80% - Requests: 6291 - Batches: 630\n",
      "Checkpoint:: Success Rate: 81.88% - Requests: 6391 - Batches: 640\n",
      "Checkpoint:: Success Rate: 81.96% - Requests: 6491 - Batches: 650\n",
      "Checkpoint:: Success Rate: 81.98% - Requests: 6591 - Batches: 660\n",
      "Checkpoint:: Success Rate: 82.13% - Requests: 6691 - Batches: 670\n",
      "Checkpoint:: Success Rate: 82.02% - Requests: 6791 - Batches: 680\n",
      "Checkpoint:: Success Rate: 81.86% - Requests: 6891 - Batches: 690\n",
      "Checkpoint:: Success Rate: 81.88% - Requests: 6991 - Batches: 700\n",
      "Checkpoint:: Success Rate: 81.74% - Requests: 7091 - Batches: 710\n",
      "Checkpoint:: Success Rate: 81.67% - Requests: 7191 - Batches: 720\n",
      "Checkpoint:: Success Rate: 81.72% - Requests: 7291 - Batches: 730\n",
      "Checkpoint:: Success Rate: 81.73% - Requests: 7391 - Batches: 740\n",
      "Checkpoint:: Success Rate: 81.80% - Requests: 7491 - Batches: 750\n",
      "Checkpoint:: Success Rate: 81.83% - Requests: 7591 - Batches: 760\n",
      "Checkpoint:: Success Rate: 81.85% - Requests: 7691 - Batches: 770\n",
      "Checkpoint:: Success Rate: 81.85% - Requests: 7791 - Batches: 780\n",
      "Checkpoint:: Success Rate: 81.89% - Requests: 7891 - Batches: 790\n",
      "Checkpoint:: Success Rate: 81.94% - Requests: 7991 - Batches: 800\n",
      "Checkpoint:: Success Rate: 81.97% - Requests: 8091 - Batches: 810\n",
      "Checkpoint:: Success Rate: 82.05% - Requests: 8191 - Batches: 820\n",
      "Checkpoint:: Success Rate: 82.13% - Requests: 8291 - Batches: 830\n",
      "Checkpoint:: Success Rate: 82.16% - Requests: 8391 - Batches: 840\n",
      "Checkpoint:: Success Rate: 82.15% - Requests: 8491 - Batches: 850\n",
      "Checkpoint:: Success Rate: 82.07% - Requests: 8591 - Batches: 860\n",
      "Checkpoint:: Success Rate: 82.13% - Requests: 8691 - Batches: 870\n",
      "Checkpoint:: Success Rate: 82.12% - Requests: 8791 - Batches: 880\n",
      "Checkpoint:: Success Rate: 82.00% - Requests: 8891 - Batches: 890\n",
      "Checkpoint:: Success Rate: 82.07% - Requests: 8991 - Batches: 900\n",
      "Checkpoint:: Success Rate: 81.89% - Requests: 9091 - Batches: 910\n",
      "Checkpoint:: Success Rate: 81.78% - Requests: 9191 - Batches: 920\n",
      "Checkpoint:: Success Rate: 81.04% - Requests: 9291 - Batches: 930\n",
      "Checkpoint:: Success Rate: 80.17% - Requests: 9391 - Batches: 940\n",
      "Checkpoint:: Success Rate: 79.33% - Requests: 9491 - Batches: 950\n",
      "Checkpoint:: Success Rate: 79.09% - Requests: 9591 - Batches: 960\n",
      "Checkpoint:: Success Rate: 79.17% - Requests: 9691 - Batches: 970\n",
      "Checkpoint:: Success Rate: 79.14% - Requests: 9791 - Batches: 980\n",
      "Checkpoint:: Success Rate: 79.18% - Requests: 9891 - Batches: 990\n",
      "Checkpoint:: Success Rate: 79.26% - Requests: 9991 - Batches: 1000\n",
      "Checkpoint:: Success Rate: 79.26% - Requests: 10091 - Batches: 1010\n",
      "Checkpoint:: Success Rate: 79.34% - Requests: 10191 - Batches: 1020\n",
      "Checkpoint:: Success Rate: 79.39% - Requests: 10291 - Batches: 1030\n",
      "Checkpoint:: Success Rate: 79.34% - Requests: 10391 - Batches: 1040\n",
      "Checkpoint:: Success Rate: 79.40% - Requests: 10491 - Batches: 1050\n",
      "Checkpoint:: Success Rate: 79.37% - Requests: 10591 - Batches: 1060\n",
      "Checkpoint:: Success Rate: 79.36% - Requests: 10691 - Batches: 1070\n",
      "Checkpoint:: Success Rate: 79.34% - Requests: 10791 - Batches: 1080\n",
      "Checkpoint:: Success Rate: 79.29% - Requests: 10891 - Batches: 1090\n"
     ]
    }
   ],
   "source": [
    "import pandas as pd\n",
    "\n",
    "from pmaw import PushshiftAPI\n",
    "\n",
    "api = PushshiftAPI()\n",
    "\n",
    "submissions = api.search_submissions(subreddit=\"wallstreetbets\", after=1597449600)\n",
    "\n",
    "sub_df = pd.DataFrame(submissions)\n",
    "\n",
    "sub_df.to_csv('./data/wallstreetbets_subs_aug2020_onwards.csv', header=True, index=False, columns=list(sub_df.axes[1]))"
   ]
  }
 ],
 "metadata": {
  "kernelspec": {
   "display_name": "Python 3",
   "language": "python",
   "name": "python3"
  },
  "language_info": {
   "codemirror_mode": {
    "name": "ipython",
    "version": 3
   },
   "file_extension": ".py",
   "mimetype": "text/x-python",
   "name": "python",
   "nbconvert_exporter": "python",
   "pygments_lexer": "ipython3",
   "version": "3.8.5"
  }
 },
 "nbformat": 4,
 "nbformat_minor": 4
}
